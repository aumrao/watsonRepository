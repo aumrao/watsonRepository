{
    "cells": [
        {
            "cell_type": "markdown",
            "metadata": {
                "collapsed": true
            },
            "source": "<h1>My Jupyter Notebook on IBM Watson Studio</h1>"
        },
        {
            "cell_type": "markdown",
            "metadata": {},
            "source": "<h2>Anup Umrao</h2>\n    Software Engineer\n    "
        },
        {
            "cell_type": "markdown",
            "metadata": {},
            "source": "<i>I am interested in data science because i love it</i>"
        },
        {
            "cell_type": "markdown",
            "metadata": {},
            "source": "<h3>my code in cell 5 will implement addition operation</h3>"
        },
        {
            "cell_type": "code",
            "execution_count": 1,
            "metadata": {},
            "outputs": [
                {
                    "data": {
                        "text/plain": "2"
                    },
                    "execution_count": 1,
                    "metadata": {},
                    "output_type": "execute_result"
                }
            ],
            "source": "1+1"
        },
        {
            "cell_type": "markdown",
            "metadata": {},
            "source": "<ul>About ME</ul>\n<li>Anup</li>\n<li>Join me at linkedin</li>\n<li>aumrao37@gmail.com</li>\n<li><a href=\"https://www.linkedin.com/in/anup-umrao-84b42046\">linkedin URL</a></li>\n"
        },
        {
            "cell_type": "code",
            "execution_count": null,
            "metadata": {},
            "outputs": [],
            "source": ""
        }
    ],
    "metadata": {
        "kernelspec": {
            "display_name": "Python 3.6",
            "language": "python",
            "name": "python3"
        },
        "language_info": {
            "codemirror_mode": {
                "name": "ipython",
                "version": 3
            },
            "file_extension": ".py",
            "mimetype": "text/x-python",
            "name": "python",
            "nbconvert_exporter": "python",
            "pygments_lexer": "ipython3",
            "version": "3.6.9"
        }
    },
    "nbformat": 4,
    "nbformat_minor": 1
}